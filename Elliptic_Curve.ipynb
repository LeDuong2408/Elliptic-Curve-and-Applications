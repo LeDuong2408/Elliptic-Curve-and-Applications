{
  "cells": [
    {
      "cell_type": "markdown",
      "source": [
        "# Phương trình đường cong\n",
        "\\begin{equation}\n",
        "y^2 = x^3 + ax + b\n",
        "\\end{equation}"
      ],
      "metadata": {
        "id": "5wx0rIY5eieP"
      }
    },
    {
      "cell_type": "code",
      "execution_count": 278,
      "metadata": {
        "id": "OpURSdRiAoBY"
      },
      "outputs": [],
      "source": [
        "INF_POINT = None\n",
        "\n",
        "class EllipticCurve:\n",
        "\tdef __init__(self, a, b, p):\n",
        "\t\tself.a = a\n",
        "\t\tself.b = b\n",
        "\t\tself.p = p\n",
        "\t\tself.points = []\n",
        "\t\t# self.definePoints()\n",
        "\n",
        "\t#Hàm thêm tất cả các điểm thuộc được cong vào points\n",
        "\t# def definePoints(self):\n",
        "\t# \tself.points.append(INF_POINT)\n",
        "\t# \tfor x in range(self.p):\n",
        "\t# \t\tfor y in range(self.p):\n",
        "\t# \t\t\tif self.equalModp(y * y, x * x * x + self.a * x + self.b):\n",
        "\t# \t\t\t\tself.points.append((x,y))\n",
        "\n",
        "\t# Hàm tính toán phép cộng điểm trên đường cong elliptic\n",
        "\tdef addition(self, P1, P2):\n",
        "\t\tif P1 == INF_POINT:\n",
        "\t\t\treturn P2\n",
        "\t\tif P2 == INF_POINT:\n",
        "\t\t\treturn P1\n",
        "\n",
        "\t\tx1, y1 = P1\n",
        "\t\tx2, y2 = P2\n",
        "\n",
        "\t\tif self.equalModp(x1, x2) and self.equalModp(y1, -y2): #Kiểm tra hai điểm có phải hai điểm đối xứng\n",
        "\t\t\treturn INF_POINT\n",
        "\n",
        "\t\tif self.equalModp(x1, x2) and self.equalModp(y1, y2): # Kiểm tra hai điểm có giống nhau không\n",
        "\t\t\ts = self.reduceModp((3 * x1 * x1 + self.a) * pow(2 * y1, -1, self.p)) # Công thức tính s nếu hai điểm giống nhau\n",
        "\t\telse:\n",
        "\t\t\ts = self.reduceModp((y1 - y2) * pow(x1 - x2, -1, self.p)) # Công thức tính s nếu hai điểm khác nhau\n",
        "\n",
        "\t\t#Tính giá trị tạo độ điểm mới theo công thức\n",
        "\t\tx3 = self.reduceModp(s * s - x1 - x2)\n",
        "\t\ty3 = self.reduceModp(s * (x1 - x3) - y1)\n",
        "\n",
        "\t\treturn (x3, y3)\n",
        "\n",
        "\t# Hàm tính toán phép nhân điểm với số nguyên trên đường cong elliptic áp dụng phương pháp nhân đôi và cộng\n",
        "\tdef multiplication(self, P, n):\n",
        "\t\tif P == INF_POINT:\n",
        "\t\t\treturn P\n",
        "\n",
        "\t\tcurrent_point = None\n",
        "\t\twhile n:\n",
        "\t\t\tif n & 1: # Thực hiện phép AND để kiểm tra bit cuối cùng của n có bằng 1 hay không\n",
        "\t\t\t\tcurrent_point = self.addition(current_point, P)\n",
        "\t\t\tP = self.addition(P, P)\n",
        "\t\t\tn >>= 1  # Phép bitwise right shift\n",
        "\t\treturn current_point\n",
        "\n",
        "\n",
        "\tdef testAssociativity(self):\n",
        "\t\tn = len(self.points)\n",
        "\t\tfor i in range (n):\n",
        "\t\t\tfor j in range(n):\n",
        "\t\t\t\tfor k in range(n):\n",
        "\t\t\t\t\tP = self.addition(self.points[i], self.addition(self.points[j], self.points[k]))\n",
        "\t\t\t\t\tQ = self.addition(self.addition(self.points[i], self.points[j]), self.points[k])\n",
        "\t\t\t\t\tif P != Q:\n",
        "\t\t\t\t\t\treturn False\n",
        "\t\treturn True\n",
        "\n",
        "\t# Hàm tính y\n",
        "\tdef find_Y(self, X):\n",
        "\t\treturn self.reduceModp((X*X*X + self.a * X + self.b))\n",
        "\n",
        "\t# Hàm tính số lượng điểm của đường cong\n",
        "\tdef numberPoints(self):\n",
        "\t\treturn len(self.points)\n",
        "\n",
        "\t# Hàm kiểm tra điểm kì dị\n",
        "\tdef discriminant(self):\n",
        "\t\tD = -16 *(4 * self.a * self.a * self.a + 27 * self.b * self.b)\n",
        "\t\treturn self.reduceModp(D)\n",
        "\n",
        "\t# Hàm lấy mode của một giá trị x trong module p của đường cong elliptic\n",
        "\tdef reduceModp(self, x):\n",
        "\t\treturn x % self.p\n",
        "\n",
        "\t# Hàm so sánh hai giá trị trong module p của đường cong elliptic\n",
        "\tdef equalModp(self, x, y):\n",
        "\t\treturn self.reduceModp(x - y) == 0\n",
        "\n",
        "\n"
      ]
    },
    {
      "cell_type": "code",
      "execution_count": 279,
      "metadata": {
        "id": "CtMxHRWEAoBa"
      },
      "outputs": [],
      "source": [
        "ec = EllipticCurve(a=1, b=1, p= 23)\n",
        "G = (0, 1)"
      ]
    },
    {
      "cell_type": "code",
      "execution_count": 280,
      "metadata": {
        "colab": {
          "base_uri": "https://localhost:8080/"
        },
        "id": "yk6rc05MAoBa",
        "outputId": "ec03e051-351d-46fd-c057-dfed24f01911"
      },
      "outputs": [
        {
          "output_type": "stream",
          "name": "stdout",
          "text": [
            "2 x G = (6, 19) \n",
            "3 x G = (3, 13) \n",
            "4 x G = (13, 16) \n",
            "5 x G = (18, 3) \n",
            "6 x G = (7, 11) \n",
            "7 x G = (11, 3) \n",
            "8 x G = (5, 19) \n",
            "9 x G = (19, 18) \n",
            "10 x G = (12, 4) \n",
            "11 x G = (1, 16) \n",
            "12 x G = (17, 20) \n",
            "13 x G = (9, 16) \n",
            "14 x G = (4, 0) \n",
            "15 x G = (9, 7) \n",
            "16 x G = (17, 3) \n",
            "17 x G = (1, 7) \n",
            "18 x G = (12, 19) \n",
            "19 x G = (19, 5) \n",
            "20 x G = (5, 4) \n",
            "21 x G = (11, 20) \n",
            "22 x G = (7, 12) \n",
            "23 x G = (18, 20) \n",
            "24 x G = (13, 7) \n",
            "25 x G = (3, 10) \n",
            "26 x G = (6, 4) \n",
            "27 x G = (0, 22) \n",
            "28 x G = None \n"
          ]
        }
      ],
      "source": [
        "current_point = G\n",
        "count = 1\n",
        "for i in range(30):\n",
        "    current_point = ec.addition(current_point, G)\n",
        "    count+=1\n",
        "    print(f\"{count} x G = {current_point} \")\n",
        "    if (current_point == None):\n",
        "        break"
      ]
    },
    {
      "cell_type": "code",
      "execution_count": 281,
      "metadata": {
        "colab": {
          "base_uri": "https://localhost:8080/"
        },
        "id": "b60CmYx5AoBa",
        "outputId": "215dab5b-149d-4679-cb9e-5de53675e6a3"
      },
      "outputs": [
        {
          "output_type": "stream",
          "name": "stdout",
          "text": [
            "(18, 3)\n"
          ]
        }
      ],
      "source": [
        "cp = ec.multiplication(G, 5)\n",
        "print(cp)"
      ]
    },
    {
      "cell_type": "markdown",
      "metadata": {
        "id": "S3jpcNFbAoBb"
      },
      "source": [
        "# Trao đổi khóa\n"
      ]
    },
    {
      "cell_type": "code",
      "source": [
        "# Secp256k1: y^2 = x^3 + ax + b = y^2 = x^3 + 7\n",
        "a = 0; b = 7\n",
        "\n",
        "# Điểm cơ sở\n",
        "G = (55066263022277343669578718895168534326250603453777594175500187360389116729240,\n",
        "     32670510020758816978083085130507043184471273380659243275938904335757337482424)\n",
        "\n",
        "# modulo\n",
        "p = pow(2, 256) - pow(2, 32) - pow(2, 9) - pow(2, 8) - pow(2, 7) - pow(2, 6) - pow(2, 4) - pow(2, 0)\n",
        "\n",
        "# Thứ tự của G trong đường cong\n",
        "n = 115792089237316195423570985008687907852837564279074904382605163141518161494337\n",
        "EC = EllipticCurve(a, b, p)"
      ],
      "metadata": {
        "id": "-j9aclpADUzx"
      },
      "execution_count": 282,
      "outputs": []
    },
    {
      "cell_type": "markdown",
      "source": [
        "## Trao đổi khóa chia sẻ bí mật ECMQV"
      ],
      "metadata": {
        "id": "TCU9cV1ODX97"
      }
    },
    {
      "cell_type": "code",
      "source": [
        "import random\n",
        "# Khóa bí mật tĩnh của Alice\n",
        "a = random.getrandbits(256)\n",
        "\n",
        "# Khóa công khai tĩnh của Alice\n",
        "aG = EC.multiplication(G, a)\n",
        "Alice = (a, aG)\n",
        "\n",
        "# Khóa bí mật của tĩnh Bob\n",
        "c = random.getrandbits(256)\n",
        "# Khóa công khai của tĩnh Bob\n",
        "cG = EC.multiplication(G, c)\n",
        "Bob = (c, cG)"
      ],
      "metadata": {
        "id": "-TiUZoXFDay7"
      },
      "execution_count": 283,
      "outputs": []
    },
    {
      "cell_type": "code",
      "source": [
        "# Chọn ngẫu nhiên b (private key)\n",
        "b = random.randint(1, n-1)\n",
        "# Tính public key bG = b × 𝐺\n",
        "bG = EC.multiplication(G, b)\n",
        "\n",
        "# Chọn ngẫu nhiên 𝑑 (private key)\n",
        "d = random.randint(1, n/2-1)\n",
        "# Tính public key dG = 𝑑 × 𝐺\n",
        "dG = EC.multiplication(G, d)"
      ],
      "metadata": {
        "id": "ZIeZYqsiDc0w"
      },
      "execution_count": 284,
      "outputs": []
    },
    {
      "cell_type": "code",
      "source": [
        "import math\n",
        "def ECMQV(a, b, aG, bG, cG, dG, k):\n",
        "\n",
        "    n = int(math.log2(k)/2)\n",
        "    u = bG[0] % (2 ** n) + 2 **(n)\n",
        "    s = (b + (u*a))\n",
        "    v = dG[0] % (2 ** n) + 2 **(n)\n",
        "    Q = EC.multiplication(EC.addition(dG,EC.multiplication(cG,v)),s)\n",
        "    return Q"
      ],
      "metadata": {
        "id": "24glFG6SDgJz"
      },
      "execution_count": 285,
      "outputs": []
    },
    {
      "cell_type": "markdown",
      "source": [
        "## Elliptic curve Deffie-Hellman"
      ],
      "metadata": {
        "id": "CI_DAo06d8Dr"
      }
    },
    {
      "cell_type": "code",
      "execution_count": 286,
      "metadata": {
        "id": "ISBS_aWLAoBb"
      },
      "outputs": [],
      "source": [
        "import random\n",
        "# Khóa bí mật của Alice\n",
        "a = random.getrandbits(256)\n",
        "\n",
        "# Khóa công khai của Alice\n",
        "Pa = EC.multiplication(G, a)\n",
        "Alice = (a, Pa)\n",
        "# Khóa bí mật của Bob\n",
        "b = random.getrandbits(256)\n",
        "\n",
        "# Khóa công khai của Bob\n",
        "Pb = EC.multiplication(G, b)\n",
        "Bob = (b, Pb)"
      ]
    },
    {
      "cell_type": "code",
      "execution_count": 287,
      "metadata": {
        "colab": {
          "base_uri": "https://localhost:8080/"
        },
        "id": "CqfRc79MAoBb",
        "outputId": "1f78a49b-6e09-4a79-feda-e5b118ab7e16"
      },
      "outputs": [
        {
          "output_type": "stream",
          "name": "stdout",
          "text": [
            "Exactly\n"
          ]
        }
      ],
      "source": [
        "Sa = EC.multiplication(Pb,a)\n",
        "Sb = EC.multiplication( Pa, b)\n",
        "\n",
        "if Sa == Sb:\n",
        "    print('Exactly')\n",
        "else:\n",
        "    print('That wrong')"
      ]
    },
    {
      "cell_type": "markdown",
      "source": [
        "Như vậy Alice và Bob đã có khóa chung"
      ],
      "metadata": {
        "id": "KcCC5l3VILk8"
      }
    },
    {
      "cell_type": "markdown",
      "source": [
        "# Mã hóa và giải mã"
      ],
      "metadata": {
        "id": "KrroSHaJd-lQ"
      }
    },
    {
      "cell_type": "markdown",
      "metadata": {
        "id": "xVh3wsyRkmJZ"
      },
      "source": [
        "## Mã hóa ECIES (The Elliptic Curve Integrated Encryption System)"
      ]
    },
    {
      "cell_type": "code",
      "execution_count": 288,
      "metadata": {
        "id": "Av0B7wEJAoBb"
      },
      "outputs": [],
      "source": [
        "import hashlib  # Import hashlib for SHA-256 hashing\n",
        "import hmac  # Import HMAC for generating MAC\n",
        "\n",
        "# Hàm dẫn xuất khóa từ điểm T\n",
        "def derive_keys(T):\n",
        "    tx, ty = T  # Lấy tọa độ x và y của điểm T\n",
        "\n",
        "    tx_binary = bin(tx)[2:]  # Chuyển đổi tọa độ x thành chuỗi nhị phân\n",
        "    tx_binary_cropped = tx_binary[0:192]  # Lấy 192 bit đầu tiên của chuỗi nhị phân\n",
        "\n",
        "    tx_restored = str(int(tx_binary_cropped, 2))  # Chuyển đổi chuỗi nhị phân thành số nguyên\n",
        "\n",
        "    hashed_tx = bin(int(hashlib.sha256(str.encode(tx_restored)).hexdigest(), 16))[2:]  # Băm giá trị đã phục hồi\n",
        "\n",
        "    assert len(hashed_tx) == 256  # Kiểm tra chiều dài của giá trị băm\n",
        "\n",
        "    # Chia giá trị băm thành hai phần để tạo khóa k1 và k2\n",
        "    k1 = int(hashed_tx[0:128], 2).to_bytes(16, byteorder='big')\n",
        "    k2 = int(hashed_tx[128:], 2).to_bytes(16, byteorder='big')\n",
        "\n",
        "    return k1, k2  # Trả về hai khóa k1 và k2\n",
        "\n",
        "# Hàm tính giá trị MAC từ tin nhắn và khóa\n",
        "def find_mac(message, key):\n",
        "    return hmac.new(\n",
        "        key,\n",
        "        message,\n",
        "        hashlib.sha256\n",
        "    ).hexdigest()  # Trả về giá trị MAC dưới dạng chuỗi hex\n"
      ]
    },
    {
      "cell_type": "code",
      "source": [
        "# !pip install pycryptodome\n"
      ],
      "metadata": {
        "id": "n4B_HGa0lTCJ"
      },
      "execution_count": 289,
      "outputs": []
    },
    {
      "cell_type": "code",
      "execution_count": 290,
      "metadata": {
        "id": "sLTfFUwQAoBc"
      },
      "outputs": [],
      "source": [
        "from Crypto.Cipher import AES  # Import AES encryption algorithm from Crypto library\n",
        "from Crypto.Util.Padding import pad, unpad  # Import padding utilities from Crypto library\n",
        "\n",
        "# Hàm mã hóa sử dụng ECIES\n",
        "def encrypt_ECIES(m, Sender, Public_key_reciver, EC):\n",
        "    a, Pa = Sender\n",
        "    U = Pa  # Tạo điểm U từ khóa công khai của người gửi\n",
        "    T = EC.multiplication(Public_key_reciver, a)  # Tính điểm T là khóa chung của hai người\n",
        "\n",
        "    # Bước 2: Sử dụng KDF để dẫn xuất khóa mã hóa đối xứng và khóa MAC\n",
        "    k1, k2 = derive_keys(T)\n",
        "\n",
        "    # Bước 3: Mã hóa tin nhắn\n",
        "    obj_message = AES.new(k1, AES.MODE_CBC, iv=b'\\x00' * 16)  # Khởi tạo với một IV toàn số 0\n",
        "    padded_message = pad(m, AES.block_size)  # Thêm padding để có độ dài là bội số của kích thước block\n",
        "    c = obj_message.encrypt(padded_message)  # Mã hóa tin nhắn\n",
        "\n",
        "    # Bước 4: Tính giá trị MAC của tin nhắn đã mã hóa và k2\n",
        "    r = find_mac(c, k2)\n",
        "\n",
        "    # Bước 5: Trả về U||c||r\n",
        "    return U, c, r\n",
        "\n",
        "# Hàm giải mã sử dụng ECIES\n",
        "def decrypt_ECIES(M, receiver, EC):\n",
        "    U, c, r = M\n",
        "    b, Pb = receiver\n",
        "    T_prime = EC.multiplication(U, b)  # Tính T' từ khóa công khai của người nhận và điểm U\n",
        "    k1, k2 = derive_keys(T_prime)  # Dẫn xuất khóa từ điểm chung T'\n",
        "    r_prime = find_mac(c, k2)  # Tính giá trị MAC từ tin nhắn đã mã hóa và khóa k2\n",
        "\n",
        "    # Kiểm tra xem giá trị MAC đã tính có khớp với giá trị MAC trong tin nhắn không\n",
        "    if r_prime == r:\n",
        "        obj_message = AES.new(k1, AES.MODE_CBC, iv=b'\\x00' * 16)  # Khởi tạo với một IV toàn số 0\n",
        "        decrypted_message = obj_message.decrypt(c)  # Giải mã tin nhắn\n",
        "        unpadded_message = unpad(decrypted_message, AES.block_size)  # Loại bỏ padding\n",
        "        return unpadded_message  # Trả về tin nhắn đã giải mã\n",
        "    else:\n",
        "        return \"Message got changed\"  # Trả về thông báo nếu giá trị MAC không khớp"
      ]
    },
    {
      "cell_type": "code",
      "execution_count": 291,
      "metadata": {
        "colab": {
          "base_uri": "https://localhost:8080/"
        },
        "id": "5IMhzA84AoBc",
        "outputId": "fdb2fd3e-619d-4dcd-cb86-52e7a72f7902"
      },
      "outputs": [
        {
          "output_type": "stream",
          "name": "stdout",
          "text": [
            "Thông điệp đã mã hóa: ((9199382662290956188446973689789366600841559497838956705733146752256290380445, 85539516375754874138050727133692318087715512807373868305134844599184539453521), b'\\x9f\\xbeu=;[\\x93qk\\xfb\\xbb]W\\x06\\xf3}', 'c2f38e3fd51082fd3f80959ce6c6d4241906e4a23213b9a9ba6dd645b19ccbc0')\n",
            "Thông điệp sau khi giải mã:  b'Hello world!'\n"
          ]
        }
      ],
      "source": [
        "m = b'Hello world!'\n",
        "M = encrypt_ECIES(m, Alice, Pb, EC)\n",
        "print('Thông điệp đã mã hóa:',M)\n",
        "m_decrypted = decrypt_ECIES(M, Bob, EC)\n",
        "print('Thông điệp sau khi giải mã: ',m_decrypted)"
      ]
    },
    {
      "cell_type": "markdown",
      "metadata": {
        "id": "fOorUva3AoBc"
      },
      "source": [
        "## Mã hóa ElGamal"
      ]
    },
    {
      "cell_type": "code",
      "execution_count": 292,
      "metadata": {
        "id": "hpzhWRnlAoBc"
      },
      "outputs": [],
      "source": [
        "# Hàm chuyển đổi một tin nhắn thành số\n",
        "def textToInt(text):\n",
        "    encoded_text = text.encode('utf-8') # Chuyển đổi chuỗi ký tự thành chuỗi bytes bằng cách mã hóa UTF-8\n",
        "    hex_text = encoded_text.hex() # Chuyển đổi chuỗi bytes thành chuỗi hex\n",
        "    int_text = int(hex_text, 16) # Chuyển đổi chuỗi hex thành số nguyên, sử dụng hệ cơ số 16\n",
        "    return int_text\n",
        "\n",
        "# Hàm chuyển đổi số thành chữ ban đầu\n",
        "def IntToText(int_text):\n",
        "    result = \"\"\n",
        "    while int_text > 0:\n",
        "        char_code = int_text % 256  # Lấy phần dư để lấy mã ASCII của ký tự\n",
        "        result = chr(char_code) + result  # Chuyển mã ASCII thành ký tự và nối vào đầu chuỗi kết quả\n",
        "        int_text //= 256  # Chia cho 256 để lấy phần nguyên cho lần lặp tiếp theo\n",
        "    return result\n",
        "\n",
        "# Hàm chuyển một số thành 1 điểm trên đường cong Elliptic\n",
        "def IntToPoint(int_text, EC):\n",
        "    y = EC.find_Y(int_text)\n",
        "    return (int_text, y) #Dùng hàm find_Y của đường cong EC tương ứng"
      ]
    },
    {
      "cell_type": "markdown",
      "metadata": {
        "id": "ZTFqPzK9AoBc"
      },
      "source": [
        "Bob muốn gửi tin nhắn cho Alice, Bob sẽ tính S dựa vào khóa riêng tư của mình và khóa công khai của Alice\n",
        "\\begin{equation}\n",
        "S = M + b*P_a\n",
        "\\end{equation}\n",
        "Và sau đó gửi (Pb, S) cho Alice\n"
      ]
    },
    {
      "cell_type": "code",
      "execution_count": 293,
      "metadata": {
        "id": "wVVjQ68FAoBc"
      },
      "outputs": [],
      "source": [
        "# Hàm mã hóa ElGamal\n",
        "def encrypt_ElGamal(message, sender, Pb, EC):\n",
        "    '''\n",
        "    message: thông điệp muốn mã hóa\n",
        "    sender: là một tuple chưa cặp khóa riêng tư, khóa công khai\n",
        "    Pb: khóa công khai của người nhận\n",
        "    EC: đường cong elliptic\n",
        "    '''\n",
        "    m = textToInt(message)\n",
        "    M = IntToPoint(m, EC)\n",
        "    a, Pa = sender\n",
        "    S = EC.addition(M, EC.multiplication(Pb, a))\n",
        "    m = (Pa, S)\n",
        "    return m"
      ]
    },
    {
      "cell_type": "markdown",
      "metadata": {
        "id": "nPuCtg3iAoBc"
      },
      "source": [
        "Khi Alice nhận được điểm đã được mã hóa sẽ tiền hành giải mã để nhận thông điệp:\n",
        "\\begin{equation}\n",
        "M = S - a*P_b\n",
        "\\end{equation}\n",
        "trong đó Pb, S là thông tin nhận được từ Bob, a là khóa riêng tư của Alice"
      ]
    },
    {
      "cell_type": "code",
      "execution_count": 294,
      "metadata": {
        "id": "fD6v9lTWAoBc"
      },
      "outputs": [],
      "source": [
        "# Hàm giải mã ElGamal\n",
        "def decrypt_ElGamal(m, receiver, EC):\n",
        "    '''\n",
        "    m: là một điểm đã được mã hóa\n",
        "    receiver: là một tuple chưa cặp khóa riêng tư, khóa công khai\n",
        "    EC: đường cong elliptic\n",
        "    '''\n",
        "    Pb, S = m\n",
        "    Pb = Pb[0], -Pb[1]\n",
        "    M = EC.addition(S, EC.multiplication(Pb, receiver[0]))\n",
        "    message = IntToText(M[0])\n",
        "    return message"
      ]
    },
    {
      "cell_type": "code",
      "execution_count": 295,
      "metadata": {
        "id": "hOkc_oKVAoBd",
        "colab": {
          "base_uri": "https://localhost:8080/"
        },
        "outputId": "ba0ed216-fc31-4ed9-93c1-8bd77a104624"
      },
      "outputs": [
        {
          "output_type": "stream",
          "name": "stdout",
          "text": [
            "Thông điệp muốn gửi:  Who are u?\n",
            "----------------\n",
            "Hacker đọc lén tin nhắn: \n",
            "ú\u0000/\b±%T÷>ãN )1¼¿Qù'ÐxÝt¢W\n",
            "----------------\n",
            "Thông điệp sau khi giải mã:  Who are u?\n"
          ]
        }
      ],
      "source": [
        "message = 'Who are u?'\n",
        "print('Thông điệp muốn gửi: ', message)\n",
        "print('----------------')\n",
        "encrypt_M = encrypt_ElGamal(message, sender = Alice, Pb = Bob[1], EC = EC)\n",
        "hack = IntToText(encrypt_M[1][0])\n",
        "print('Hacker đọc lén tin nhắn: ')\n",
        "print(hack)\n",
        "print('----------------')\n",
        "decrypt_M = decrypt_ElGamal(encrypt_M, receiver= Bob,  EC = EC)\n",
        "print('Thông điệp sau khi giải mã: ', decrypt_M)"
      ]
    },
    {
      "cell_type": "markdown",
      "source": [
        "# Chữ ký số"
      ],
      "metadata": {
        "id": "W6EbTmKEijUH"
      }
    },
    {
      "cell_type": "markdown",
      "source": [
        "## Chữ ký số ElGamal"
      ],
      "metadata": {
        "id": "oxJtDhfqmm20"
      }
    },
    {
      "cell_type": "code",
      "execution_count": 296,
      "metadata": {
        "id": "t4V0IJKuAoBd"
      },
      "outputs": [],
      "source": [
        "import random\n",
        "# Hàm sinh chữ ký số ELGamal\n",
        "def generation_DS_ElGamal(x, m, EC, G, n):\n",
        "    '''\n",
        "    x: khóa riêng tư của người gửi\n",
        "    m:  thông điệp muốn gửi\n",
        "    EC: đường cong elliptic\n",
        "    G: điểm cở sở đã chọn\n",
        "    n: thứ tự điểm cơ sở\n",
        "    '''\n",
        "    k = random.randint(1, n-2)  # Chọn một số ngẫu nhiên k trong khoảng [1, n-1]\n",
        "    R = EC.multiplication(G, k)  # Nhân G với k để có điểm ngẫu nhiên R\n",
        "    # Tính s bằng cách sử dụng modular inverse và modular reduction\n",
        "    k_inv = pow(k, -1, n)  # Modular inverse của k (mod n)\n",
        "    s = (k_inv * (m - x * R[0])) % n # Modular reduction sau khi nhân\n",
        "\n",
        "    return R, s  # Chữ ký là cặp (R, s)\n",
        "\n",
        "# Hàm xác thực chữ ký số ELGamal\n",
        "def verify_DS_ElGamal(Y, m, DS, EC, G):\n",
        "    '''\n",
        "    Y: khóa công khai của người gửi\n",
        "    m:  thông điệp nhận được\n",
        "    DS: chữ ký nhận được\n",
        "    EC: đường cong elliptic\n",
        "    G: điểm cở sở đã chọn\n",
        "    '''\n",
        "    R, s = DS  # Unpack the signature\n",
        "    V1 = EC.addition(EC.multiplication(Y, R[0]), EC.multiplication(R, s))\n",
        "    V2 = EC.multiplication(G, m)\n",
        "    return V1 == V2\n"
      ]
    },
    {
      "cell_type": "code",
      "execution_count": 297,
      "metadata": {
        "id": "tzY1J5VVAoBd",
        "colab": {
          "base_uri": "https://localhost:8080/"
        },
        "outputId": "cc83b8a8-dfd2-4197-91cb-e764c2bd3fb8"
      },
      "outputs": [
        {
          "output_type": "stream",
          "name": "stdout",
          "text": [
            "Chữ ký:  ((34249792283179824075781643903209133766320263553267269695164239267854897269216, 106181456649484741061102738090276749346933843425861126669785285923548984436671), 90280146605046852321696330082356034949617002261714859871878014598064410945763)\n",
            "Chữ ký được xác thực!\n"
          ]
        }
      ],
      "source": [
        "message = 'Hello world!'\n",
        "m = textToInt(message)\n",
        "DS = generation_DS_ElGamal(a, m, EC, G, n)\n",
        "print('Chữ ký: ', DS)\n",
        "# Bob receives the Digital Signature and checks it.\n",
        "message1 = 'Hello'\n",
        "m1 = textToInt(message1)\n",
        "if verify_DS_ElGamal(Pa, m, DS, EC, G):\n",
        "    print(\"Chữ ký được xác thực!\")\n",
        "else:\n",
        "    print(\"Chữ ký không tồn tại!\")"
      ]
    },
    {
      "cell_type": "markdown",
      "metadata": {
        "id": "olXS3MekAoBd"
      },
      "source": [
        "## ECDSA - Elliptic curve digital signature algorithm"
      ]
    },
    {
      "cell_type": "code",
      "execution_count": 298,
      "metadata": {
        "id": "l9GahjyCAoBd"
      },
      "outputs": [],
      "source": [
        "# ECDSA khởi tạo khóa\n",
        "def generate_key_pair():\n",
        "    # Chọn ngẫu nhiên 𝑑 (private key) trong khoảng [1, n-1]\n",
        "    private_key = random.randint(1, n-1)\n",
        "    # Tính public key 𝑄 = 𝑑 × 𝐺\n",
        "    public_key = EC.multiplication(G, private_key)\n",
        "    return private_key, public_key"
      ]
    },
    {
      "cell_type": "code",
      "execution_count": 299,
      "metadata": {
        "id": "fRXK0DGaAoBd"
      },
      "outputs": [],
      "source": [
        "import hashlib\n",
        " # ECDSA sinh chữ ký số\n",
        "def sign_ECDSA(message, private_key):\n",
        "\n",
        "    k = random.randint(1, n-1) # 1. Chọn số k ngẫu nhiên thuộc [1, n-1],\n",
        "    x, _ = EC.multiplication(G, k) # 2. (x1, y1) = kG\n",
        "    r = x % n # 3. r = x1 mod n\n",
        "\n",
        "    if r == 0:\n",
        "        return sign_ECDSA(message, private_key)  # 4. r = 0 quay lại bước 1\n",
        "    message = message.encode()\n",
        "    e = int.from_bytes(hashlib.sha256(message).digest(), byteorder='big') % n  # 5. e = H(m) chuyển đổi tin nhắn thành 1 số bằng hàm băm\n",
        "    s = (pow(k, -1, n) * (e + private_key * r)) % n    # 6. s = k^-1 * (e+ d*r)\n",
        "\n",
        "    if s == 0:\n",
        "        return sign_ECDSA(message, private_key) # 7. s = 0 quay lại bước 1\n",
        "    return r, s\n",
        "\n",
        "# ECDSA xác thực chữ ký số\n",
        "def verify_ECDSA(message, signature, public_key):\n",
        "    message = message.encode()\n",
        "    r, s = signature\n",
        "    if not (0 < r < n and 0 < s < n):\n",
        "        return False\n",
        "    e = int.from_bytes(hashlib.sha256(message).digest(), byteorder='big') % n\n",
        "    w = pow(s, -1, n)\n",
        "    u1 = (e * w) % n\n",
        "    u2 = (r * w) % n\n",
        "    x, _ = EC.addition(EC.multiplication(G, u1), EC.multiplication(public_key, u2))\n",
        "    if (r % n) == (x % n):\n",
        "        return True\n",
        "    else:\n",
        "        return False"
      ]
    },
    {
      "cell_type": "code",
      "execution_count": 300,
      "metadata": {
        "id": "ZbDV6iObAoBd",
        "colab": {
          "base_uri": "https://localhost:8080/"
        },
        "outputId": "713c07f0-a653-442b-8480-1eb8d8d7e494"
      },
      "outputs": [
        {
          "output_type": "stream",
          "name": "stdout",
          "text": [
            "Khóa bí mật: 0xa736d2e6c6a4f3e813e000dd43fec986bbed5b0f5ca432a37330cd39fff620bf\n",
            "Khóa công khai: (38869028779151858866788440335097450758970308129976736509059719121874116110610, 58135296651230529768188213718840266786906436647239186244783461198979582152956)\n",
            "Chữ ký số: (64679407910741613320601293418527975451003818173667401524163551345121264056055, 66422986853658927573547579949287368733665125606744107048436397648382738773698)\n"
          ]
        }
      ],
      "source": [
        "message = \"Hello, world!\"\n",
        "private_key, public_key = generate_key_pair()\n",
        "print(\"Khóa bí mật:\", hex(private_key))\n",
        "print(\"Khóa công khai:\", public_key)\n",
        "\n",
        "signature = sign_ECDSA(message, private_key)\n",
        "print(\"Chữ ký số:\", signature)\n",
        "\n"
      ]
    },
    {
      "cell_type": "code",
      "execution_count": 301,
      "metadata": {
        "id": "cDM2ACRfAoBe",
        "colab": {
          "base_uri": "https://localhost:8080/"
        },
        "outputId": "3b4a30f1-f6d9-4e24-ec0f-01c68369d727"
      },
      "outputs": [
        {
          "output_type": "stream",
          "name": "stdout",
          "text": [
            "Chữ ký được xác thực!\n"
          ]
        }
      ],
      "source": [
        "if verify_ECDSA(message, signature, public_key):\n",
        "    print(\"Chữ ký được xác thực!\")\n",
        "else:\n",
        "    print(\"Chữ ký không tồn tại\")"
      ]
    },
    {
      "cell_type": "markdown",
      "source": [
        "# Demo"
      ],
      "metadata": {
        "id": "_7k8Z8r1ddwh"
      }
    },
    {
      "cell_type": "code",
      "source": [
        "import random\n",
        "class Chat:\n",
        "    def __init__(self, a, b, p, G, n, id1, id2):\n",
        "        self.a = a\n",
        "        self.b = b\n",
        "        self.p = p\n",
        "        self.G = G\n",
        "        self.n = n\n",
        "        self.id1 = id1\n",
        "        self.id2 = id2\n",
        "\n",
        "        self.EC = EllipticCurve(self.a, self.b, self.p)\n",
        "\n",
        "        self.private_key_id1 = random.getrandbits(256)\n",
        "        self.public_key_id1 = self.EC.multiplication(self.G, self.private_key_id1)\n",
        "        self.member1 = (self.private_key_id1, self.public_key_id1)\n",
        "\n",
        "        self.private_key_id2 = random.getrandbits(256)\n",
        "        self.public_key_id2 = self.EC.multiplication(self.G, self.private_key_id2)\n",
        "        self.member2 = (self.private_key_id2, self.public_key_id2)\n",
        "\n",
        "    def send_message(self, sender, receiver, message):\n",
        "        # Mã hóa tin nhắn bằng ElGamal\n",
        "        message_encrypt = encrypt_ElGamal(message, sender, receiver[1], self.EC)\n",
        "        # Sinh chữ ký ứng với thông điệp đã mã hóa\n",
        "        signature = generation_DS_ElGamal(sender[0], message_encrypt[1][0], self.EC, self.G, self.n)\n",
        "        return message_encrypt, signature\n",
        "\n",
        "    def receive_message(self, sender, receiver, M):\n",
        "        message_encrypt, signature = M\n",
        "        verify = verify_DS_ElGamal(sender[1], message_encrypt[1][0], signature, self.EC, self.G)\n",
        "        if verify:\n",
        "            message_original = decrypt_ElGamal(message_encrypt, receiver, self.EC)\n",
        "            return message_original\n",
        "        else:\n",
        "            return \"Tin nhắn đã bị hacker thay đổi\""
      ],
      "metadata": {
        "id": "o81ymV5vjOBO"
      },
      "execution_count": 302,
      "outputs": []
    },
    {
      "cell_type": "code",
      "source": [
        "# Secp256k1: y^2 = x^3 + ax + b = y^2 = x^3 + 7\n",
        "a = 0; b = 7\n",
        "\n",
        "# Điểm cơ sở\n",
        "G = (55066263022277343669578718895168534326250603453777594175500187360389116729240,\n",
        "     32670510020758816978083085130507043184471273380659243275938904335757337482424)\n",
        "\n",
        "# modulo\n",
        "p = pow(2, 256) - pow(2, 32) - pow(2, 9) - pow(2, 8) - pow(2, 7) - pow(2, 6) - pow(2, 4) - pow(2, 0)\n",
        "\n",
        "# Thứ tự của G trong đường cong\n",
        "n = 115792089237316195423570985008687907852837564279074904382605163141518161494337\n",
        "EC = EllipticCurve(a, b, p)"
      ],
      "metadata": {
        "id": "YAVFgSgupiJZ"
      },
      "execution_count": 303,
      "outputs": []
    },
    {
      "cell_type": "code",
      "source": [
        "id1 = 1\n",
        "id2 = 2\n",
        "chat_1_2 = Chat(a, b, p, G, n, id1, id2)"
      ],
      "metadata": {
        "id": "2dRp9tMNhjXj"
      },
      "execution_count": 304,
      "outputs": []
    },
    {
      "cell_type": "code",
      "source": [
        "message1 = 'Help me guy!'\n",
        "sent_message = chat_1_2.send_message(chat_1_2.member1, chat_1_2.member2, message1)\n",
        "print('Tin nhắn sẽ được gửi đi: ', sent_message)"
      ],
      "metadata": {
        "colab": {
          "base_uri": "https://localhost:8080/"
        },
        "id": "DjA3GSzZprQ8",
        "outputId": "6bea99f6-136d-43e6-e16f-0a1041b1e1a8"
      },
      "execution_count": 305,
      "outputs": [
        {
          "output_type": "stream",
          "name": "stdout",
          "text": [
            "Tin nhắn sẽ được gửi đi:  (((6509315782644017946050044136042187091860350590192491131051034314628072580437, 90959383961144886320975650813931367826135868194158498877373265869530202937390), (61600008715244206007339365931951334218512794454086922342774975061747878252476, 69074669053992011001258560210164408167686878589693012144009531367227246101399)), ((1875872991311864312082179152451404023617884040764921193790108470186169101861, 47499100602540046046255092763970267123584548418191104486110586256425057251997), 14316541502373310342952684843660436180093370189210916261411160273728534295573))\n"
          ]
        }
      ]
    },
    {
      "cell_type": "code",
      "source": [
        "hack = IntToText(sent_message[0][1][0])\n",
        "print(\"Tin nhắn hacker đọc được: \", hack)"
      ],
      "metadata": {
        "colab": {
          "base_uri": "https://localhost:8080/"
        },
        "id": "oj1VtaARE7zH",
        "outputId": "7db56079-01d6-4bc3-b816-99cf0dbe4ddf"
      },
      "execution_count": 306,
      "outputs": [
        {
          "output_type": "stream",
          "name": "stdout",
          "text": [
            "Tin nhắn hacker đọc được:  0^\u0016þÑWìkz-úÜxhzî tÃ*=¦¶¿(rÏ¼\n"
          ]
        }
      ]
    },
    {
      "cell_type": "code",
      "source": [
        "message_received = chat_1_2.receive_message(chat_1_2.member1, chat_1_2.member2, sent_message)\n",
        "print(\"Tin nhắn nhận được sau khi giải mã: \", message_received)"
      ],
      "metadata": {
        "colab": {
          "base_uri": "https://localhost:8080/"
        },
        "id": "GUQTzKcVqPM2",
        "outputId": "7896ab3f-8aa8-4063-81a4-a5f6dede3dc6"
      },
      "execution_count": 307,
      "outputs": [
        {
          "output_type": "stream",
          "name": "stdout",
          "text": [
            "Tin nhắn nhận được sau khi giải mã:  Help me guy!\n"
          ]
        }
      ]
    },
    {
      "cell_type": "code",
      "source": [
        "class banking:\n",
        "  def __init__(self, a, b, p, G, n, id1, id2):\n",
        "      self.a = a\n",
        "      self.b = b\n",
        "      self.p = p\n",
        "      self.G = G\n",
        "      self.n = n\n",
        "      self.id1 = id1\n",
        "      self.id2 = id2\n",
        "\n",
        "      self.EC = EllipticCurve(self.a, self.b, self.p)\n",
        "\n",
        "      self.private_key_id1 = random.getrandbits(256)\n",
        "      self.public_key_id1 = self.EC.multiplication(self.G, self.private_key_id1)\n",
        "      self.member1 = (self.private_key_id1, self.public_key_id1)\n",
        "\n",
        "      self.private_key_id2 = random.getrandbits(256)\n",
        "      self.public_key_id2 = self.EC.multiplication(self.G, self.private_key_id2)\n",
        "      self.member2 = (self.private_key_id2, self.public_key_id2)\n",
        "\n",
        "  def transfer_money(self, sender, reciver, transfer_amount):\n",
        "      singature = sign_ECDSA(transfer_amount, sender[0])\n",
        "      return singature\n",
        "\n",
        "  def complete_transfer(self, sender, reciver, transfer_amount, singature):\n",
        "      verify = verify_ECDSA(transfer_amount, singature, sender[1])\n",
        "      if verify:\n",
        "          transfer_amount = int(transfer_amount)\n",
        "          if (sender[0] == self.member1[0]):\n",
        "            self.id1[1], self.id2[1] = self.id1[1] - transfer_amount, self.id2[1] + transfer_amount\n",
        "          if (sender[0] == self.member2[0]):\n",
        "            self.id2[1], self.id1[1] = self.id2[1] - transfer_amount, self.id1[1] + transfer_amount\n",
        "          return 'Giao dịch thành công!'\n",
        "      return \"Giao dịch thất bại!\"\n",
        "\n"
      ],
      "metadata": {
        "id": "1HULmS3KtjZs"
      },
      "execution_count": 308,
      "outputs": []
    },
    {
      "cell_type": "code",
      "source": [
        "id3 = [3, 500]\n",
        "id4 = [4, 2000]\n",
        "baking34 = banking(a, b, p, G, n, id3, id4)\n"
      ],
      "metadata": {
        "id": "LNBxVrcu3eGE"
      },
      "execution_count": 309,
      "outputs": []
    },
    {
      "cell_type": "code",
      "source": [
        "transfer_amount = '100'\n",
        "if(int(transfer_amount)> baking34.id1[1]): #Kiểm tra số tiền của người 1 muốn gửi\n",
        "  print('Số dư không đủ')\n",
        "else:\n",
        "  sig = baking34.transfer_money(baking34.member1, baking34.member2, transfer_amount) #Sinh chữ ký cho giao dịch giao dịch\n",
        "  print(sig)\n",
        "  print('ID và số tiền người 1', baking34.id1)\n",
        "  print('ID và số tiền người 2', baking34.id2)\n"
      ],
      "metadata": {
        "colab": {
          "base_uri": "https://localhost:8080/"
        },
        "id": "DAaaHTm73uFr",
        "outputId": "e9b48b29-3e98-407f-f469-4fae5d6eda42"
      },
      "execution_count": 310,
      "outputs": [
        {
          "output_type": "stream",
          "name": "stdout",
          "text": [
            "(23256255436789568902178737609228102288699521171331635094202278219165157183652, 14603822963266198580461745505822131895897254579016058946669473441364807734901)\n",
            "ID và số tiền người 1 [3, 500]\n",
            "ID và số tiền người 2 [4, 2000]\n"
          ]
        }
      ]
    },
    {
      "cell_type": "code",
      "source": [
        "transfer_amount = '100'\n",
        "result = baking34.complete_transfer(baking34.member1, baking34.member2, transfer_amount, sig) #Hoàn tất hoặc hủy giao dịch\n",
        "print(result)\n",
        "print('ID và số tiền người 1', baking34.id1)\n",
        "print('ID và số tiền người 2', baking34.id2)"
      ],
      "metadata": {
        "colab": {
          "base_uri": "https://localhost:8080/"
        },
        "id": "SWg_mL9C4xnS",
        "outputId": "0fb6b6b7-c566-4f7b-8b0e-a5a510b71021"
      },
      "execution_count": 311,
      "outputs": [
        {
          "output_type": "stream",
          "name": "stdout",
          "text": [
            "Giao dịch thành công!\n",
            "ID và số tiền người 1 [3, 400]\n",
            "ID và số tiền người 2 [4, 2100]\n"
          ]
        }
      ]
    },
    {
      "cell_type": "code",
      "source": [],
      "metadata": {
        "id": "rgLaH4LT7Jnd"
      },
      "execution_count": 311,
      "outputs": []
    }
  ],
  "metadata": {
    "kernelspec": {
      "display_name": "Python 3",
      "language": "python",
      "name": "python3"
    },
    "language_info": {
      "codemirror_mode": {
        "name": "ipython",
        "version": 3
      },
      "file_extension": ".py",
      "mimetype": "text/x-python",
      "name": "python",
      "nbconvert_exporter": "python",
      "pygments_lexer": "ipython3",
      "version": "3.11.4"
    },
    "colab": {
      "provenance": [],
      "toc_visible": true
    }
  },
  "nbformat": 4,
  "nbformat_minor": 0
}